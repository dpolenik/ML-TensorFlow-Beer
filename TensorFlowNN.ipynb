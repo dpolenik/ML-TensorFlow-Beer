{
 "cells": [
  {
   "cell_type": "code",
   "execution_count": 110,
   "metadata": {},
   "outputs": [
    {
     "name": "stderr",
     "output_type": "stream",
     "text": [
      "Using TensorFlow backend.\n"
     ]
    }
   ],
   "source": [
    "# TensorFlow and tf.keras\n",
    "import tensorflow as tf\n",
    "from tensorflow import keras\n",
    "import pandas as pd\n",
    "import numpy as np\n",
    "from keras.models import model_from_json\n",
    "from sklearn.model_selection import train_test_split\n",
    "from sklearn.preprocessing import LabelEncoder\n",
    "from matplotlib import pyplot\n",
    "import matplotlib.pyplot as plt\n",
    "import pickle\n",
    "\n",
    "from sklearn.metrics import accuracy_score\n",
    "from keras.models import model_from_json\n",
    "\n",
    "tf.logging.set_verbosity(tf.logging.ERROR)\n"
   ]
  },
  {
   "cell_type": "code",
   "execution_count": 11,
   "metadata": {},
   "outputs": [
    {
     "name": "stdout",
     "output_type": "stream",
     "text": [
      "1.10.0\n"
     ]
    }
   ],
   "source": [
    "print(tf.__version__)"
   ]
  },
  {
   "cell_type": "code",
   "execution_count": 12,
   "metadata": {},
   "outputs": [],
   "source": [
    "def loadBeer():\n",
    "    recipes_raw = pd.read_csv('./data/recipeData.csv',index_col='BeerID',encoding='latin1')\n",
    "    recipes_train = recipes_raw[[\"OG\",\"FG\",\"ABV\",\"IBU\",\"Color\"]]\n",
    "    recipes_label = recipes_raw[[\"Style\"]]\n",
    "    recipes_label=recipes_label[\"Style\"].fillna(\"N/A\")\n",
    "    X_train, X_test, y_train, y_test  = train_test_split(recipes_train, recipes_label, test_size=0.3, random_state=0)\n",
    "    encoder = LabelEncoder()\n",
    "    y_test = encoder.fit_transform(y_test).astype(np.int32)\n",
    "    y_train = encoder.fit_transform(y_train).astype(np.int32)\n",
    "    num_features = X_train.shape[1]\n",
    "    num_classes = len(encoder.classes_)\n",
    "    return  X_train, X_test, y_train, y_test,num_classes,num_features"
   ]
  },
  {
   "cell_type": "code",
   "execution_count": 124,
   "metadata": {},
   "outputs": [
    {
     "data": {
      "text/html": [
       "<div>\n",
       "<style scoped>\n",
       "    .dataframe tbody tr th:only-of-type {\n",
       "        vertical-align: middle;\n",
       "    }\n",
       "\n",
       "    .dataframe tbody tr th {\n",
       "        vertical-align: top;\n",
       "    }\n",
       "\n",
       "    .dataframe thead th {\n",
       "        text-align: right;\n",
       "    }\n",
       "</style>\n",
       "<table border=\"1\" class=\"dataframe\">\n",
       "  <thead>\n",
       "    <tr style=\"text-align: right;\">\n",
       "      <th></th>\n",
       "      <th>Name</th>\n",
       "      <th>URL</th>\n",
       "      <th>Style</th>\n",
       "      <th>StyleID</th>\n",
       "      <th>Size(L)</th>\n",
       "      <th>OG</th>\n",
       "      <th>FG</th>\n",
       "      <th>ABV</th>\n",
       "      <th>IBU</th>\n",
       "      <th>Color</th>\n",
       "      <th>...</th>\n",
       "      <th>BoilGravity</th>\n",
       "      <th>Efficiency</th>\n",
       "      <th>MashThickness</th>\n",
       "      <th>SugarScale</th>\n",
       "      <th>BrewMethod</th>\n",
       "      <th>PitchRate</th>\n",
       "      <th>PrimaryTemp</th>\n",
       "      <th>PrimingMethod</th>\n",
       "      <th>PrimingAmount</th>\n",
       "      <th>UserId</th>\n",
       "    </tr>\n",
       "    <tr>\n",
       "      <th>BeerID</th>\n",
       "      <th></th>\n",
       "      <th></th>\n",
       "      <th></th>\n",
       "      <th></th>\n",
       "      <th></th>\n",
       "      <th></th>\n",
       "      <th></th>\n",
       "      <th></th>\n",
       "      <th></th>\n",
       "      <th></th>\n",
       "      <th></th>\n",
       "      <th></th>\n",
       "      <th></th>\n",
       "      <th></th>\n",
       "      <th></th>\n",
       "      <th></th>\n",
       "      <th></th>\n",
       "      <th></th>\n",
       "      <th></th>\n",
       "      <th></th>\n",
       "      <th></th>\n",
       "    </tr>\n",
       "  </thead>\n",
       "  <tbody>\n",
       "    <tr>\n",
       "      <th>1</th>\n",
       "      <td>Vanilla Cream Ale</td>\n",
       "      <td>/homebrew/recipe/view/1633/vanilla-cream-ale</td>\n",
       "      <td>Cream Ale</td>\n",
       "      <td>45</td>\n",
       "      <td>21.77</td>\n",
       "      <td>1.055</td>\n",
       "      <td>1.013</td>\n",
       "      <td>5.48</td>\n",
       "      <td>17.65</td>\n",
       "      <td>4.83</td>\n",
       "      <td>...</td>\n",
       "      <td>1.038</td>\n",
       "      <td>70.0</td>\n",
       "      <td>NaN</td>\n",
       "      <td>Specific Gravity</td>\n",
       "      <td>All Grain</td>\n",
       "      <td>NaN</td>\n",
       "      <td>17.78</td>\n",
       "      <td>corn sugar</td>\n",
       "      <td>4.5 oz</td>\n",
       "      <td>116.0</td>\n",
       "    </tr>\n",
       "    <tr>\n",
       "      <th>2</th>\n",
       "      <td>Southern Tier Pumking clone</td>\n",
       "      <td>/homebrew/recipe/view/16367/southern-tier-pumk...</td>\n",
       "      <td>Holiday/Winter Special Spiced Beer</td>\n",
       "      <td>85</td>\n",
       "      <td>20.82</td>\n",
       "      <td>1.083</td>\n",
       "      <td>1.021</td>\n",
       "      <td>8.16</td>\n",
       "      <td>60.65</td>\n",
       "      <td>15.64</td>\n",
       "      <td>...</td>\n",
       "      <td>1.070</td>\n",
       "      <td>70.0</td>\n",
       "      <td>NaN</td>\n",
       "      <td>Specific Gravity</td>\n",
       "      <td>All Grain</td>\n",
       "      <td>NaN</td>\n",
       "      <td>NaN</td>\n",
       "      <td>NaN</td>\n",
       "      <td>NaN</td>\n",
       "      <td>955.0</td>\n",
       "    </tr>\n",
       "    <tr>\n",
       "      <th>3</th>\n",
       "      <td>Zombie Dust Clone - EXTRACT</td>\n",
       "      <td>/homebrew/recipe/view/5920/zombie-dust-clone-e...</td>\n",
       "      <td>American IPA</td>\n",
       "      <td>7</td>\n",
       "      <td>18.93</td>\n",
       "      <td>1.063</td>\n",
       "      <td>1.018</td>\n",
       "      <td>5.91</td>\n",
       "      <td>59.25</td>\n",
       "      <td>8.98</td>\n",
       "      <td>...</td>\n",
       "      <td>NaN</td>\n",
       "      <td>70.0</td>\n",
       "      <td>NaN</td>\n",
       "      <td>Specific Gravity</td>\n",
       "      <td>extract</td>\n",
       "      <td>NaN</td>\n",
       "      <td>NaN</td>\n",
       "      <td>NaN</td>\n",
       "      <td>NaN</td>\n",
       "      <td>NaN</td>\n",
       "    </tr>\n",
       "    <tr>\n",
       "      <th>4</th>\n",
       "      <td>Zombie Dust Clone - ALL GRAIN</td>\n",
       "      <td>/homebrew/recipe/view/5916/zombie-dust-clone-a...</td>\n",
       "      <td>American IPA</td>\n",
       "      <td>7</td>\n",
       "      <td>22.71</td>\n",
       "      <td>1.061</td>\n",
       "      <td>1.017</td>\n",
       "      <td>5.80</td>\n",
       "      <td>54.48</td>\n",
       "      <td>8.50</td>\n",
       "      <td>...</td>\n",
       "      <td>NaN</td>\n",
       "      <td>70.0</td>\n",
       "      <td>NaN</td>\n",
       "      <td>Specific Gravity</td>\n",
       "      <td>All Grain</td>\n",
       "      <td>NaN</td>\n",
       "      <td>NaN</td>\n",
       "      <td>NaN</td>\n",
       "      <td>NaN</td>\n",
       "      <td>NaN</td>\n",
       "    </tr>\n",
       "    <tr>\n",
       "      <th>5</th>\n",
       "      <td>Bakke Brygg Belgisk Blonde 50 l</td>\n",
       "      <td>/homebrew/recipe/view/89534/bakke-brygg-belgis...</td>\n",
       "      <td>Belgian Blond Ale</td>\n",
       "      <td>20</td>\n",
       "      <td>50.00</td>\n",
       "      <td>1.060</td>\n",
       "      <td>1.010</td>\n",
       "      <td>6.48</td>\n",
       "      <td>17.84</td>\n",
       "      <td>4.57</td>\n",
       "      <td>...</td>\n",
       "      <td>1.050</td>\n",
       "      <td>72.0</td>\n",
       "      <td>NaN</td>\n",
       "      <td>Specific Gravity</td>\n",
       "      <td>All Grain</td>\n",
       "      <td>NaN</td>\n",
       "      <td>19.00</td>\n",
       "      <td>Sukkerlake</td>\n",
       "      <td>6-7 g sukker/l</td>\n",
       "      <td>18325.0</td>\n",
       "    </tr>\n",
       "  </tbody>\n",
       "</table>\n",
       "<p>5 rows × 22 columns</p>\n",
       "</div>"
      ],
      "text/plain": [
       "                                   Name  \\\n",
       "BeerID                                    \n",
       "1                     Vanilla Cream Ale   \n",
       "2           Southern Tier Pumking clone   \n",
       "3           Zombie Dust Clone - EXTRACT   \n",
       "4         Zombie Dust Clone - ALL GRAIN   \n",
       "5       Bakke Brygg Belgisk Blonde 50 l   \n",
       "\n",
       "                                                      URL  \\\n",
       "BeerID                                                      \n",
       "1            /homebrew/recipe/view/1633/vanilla-cream-ale   \n",
       "2       /homebrew/recipe/view/16367/southern-tier-pumk...   \n",
       "3       /homebrew/recipe/view/5920/zombie-dust-clone-e...   \n",
       "4       /homebrew/recipe/view/5916/zombie-dust-clone-a...   \n",
       "5       /homebrew/recipe/view/89534/bakke-brygg-belgis...   \n",
       "\n",
       "                                     Style  StyleID  Size(L)     OG     FG  \\\n",
       "BeerID                                                                       \n",
       "1                                Cream Ale       45    21.77  1.055  1.013   \n",
       "2       Holiday/Winter Special Spiced Beer       85    20.82  1.083  1.021   \n",
       "3                             American IPA        7    18.93  1.063  1.018   \n",
       "4                             American IPA        7    22.71  1.061  1.017   \n",
       "5                        Belgian Blond Ale       20    50.00  1.060  1.010   \n",
       "\n",
       "         ABV    IBU  Color   ...     BoilGravity  Efficiency  MashThickness  \\\n",
       "BeerID                       ...                                              \n",
       "1       5.48  17.65   4.83   ...           1.038        70.0            NaN   \n",
       "2       8.16  60.65  15.64   ...           1.070        70.0            NaN   \n",
       "3       5.91  59.25   8.98   ...             NaN        70.0            NaN   \n",
       "4       5.80  54.48   8.50   ...             NaN        70.0            NaN   \n",
       "5       6.48  17.84   4.57   ...           1.050        72.0            NaN   \n",
       "\n",
       "              SugarScale  BrewMethod PitchRate PrimaryTemp  PrimingMethod  \\\n",
       "BeerID                                                                      \n",
       "1       Specific Gravity   All Grain       NaN       17.78     corn sugar   \n",
       "2       Specific Gravity   All Grain       NaN         NaN            NaN   \n",
       "3       Specific Gravity     extract       NaN         NaN            NaN   \n",
       "4       Specific Gravity   All Grain       NaN         NaN            NaN   \n",
       "5       Specific Gravity   All Grain       NaN       19.00     Sukkerlake   \n",
       "\n",
       "         PrimingAmount   UserId  \n",
       "BeerID                           \n",
       "1               4.5 oz    116.0  \n",
       "2                  NaN    955.0  \n",
       "3                  NaN      NaN  \n",
       "4                  NaN      NaN  \n",
       "5       6-7 g sukker/l  18325.0  \n",
       "\n",
       "[5 rows x 22 columns]"
      ]
     },
     "execution_count": 124,
     "metadata": {},
     "output_type": "execute_result"
    }
   ],
   "source": [
    "X_train, X_test, y_train, y_test,num_classes,num_features = loadBeer()\n",
    "recipes_raw = pd.read_csv('./data/recipeData.csv',index_col='BeerID',encoding='latin1')\n",
    "recipes_train = recipes_raw[[\"OG\",\"FG\",\"ABV\",\"IBU\",\"Color\"]]\n",
    "recipes_label = recipes_raw[[\"Style\"]]\n",
    "recipes_label=recipes_label[\"Style\"].fillna(\"N/A\")\n",
    "recipes_raw.head()"
   ]
  },
  {
   "cell_type": "code",
   "execution_count": 99,
   "metadata": {},
   "outputs": [
    {
     "data": {
      "text/plain": [
       "array(['Cream Ale', 'Holiday/Winter Special Spiced Beer', 'American IPA',\n",
       "       'Belgian Blond Ale', 'American Pale Ale', 'Imperial IPA',\n",
       "       'Robust Porter', 'Bohemian Pilsener', 'Saison',\n",
       "       'Northern English Brown', 'English IPA', 'Traditional Bock',\n",
       "       'Premium American Lager', 'Belgian Golden Strong Ale', 'N/A',\n",
       "       'Double IPA', 'Blonde Ale', 'Light American Lager',\n",
       "       'German Pilsner (Pils)', 'American Brown Ale', 'Oatmeal Stout',\n",
       "       'Specialty Beer', 'American Amber Ale', 'Kölsch', 'Witbier',\n",
       "       'Weizen/Weissbier', 'Trappist Single', 'Russian Imperial Stout',\n",
       "       'Specialty IPA: Black IPA', 'Sweet Stout', 'Strong Scotch Ale',\n",
       "       'Belgian Tripel', 'American Stout', 'Belgian Pale Ale',\n",
       "       'Dark American Lager', 'Dry Stout', 'Belgian Dark Strong Ale',\n",
       "       'American Wheat or Rye Beer', 'Vienna Lager',\n",
       "       'Special/Best/Premium Bitter', 'Experimental Beer',\n",
       "       'Irish Red Ale', 'Old Ale', 'Extra Special/Strong Bitter (ESB)',\n",
       "       'Winter Seasonal Beer', 'Standard American Lager',\n",
       "       'Wood-Aged Beer', 'Fruit Beer', 'British Golden Ale',\n",
       "       'Flanders Red Ale', 'Berliner Weisse', 'Oktoberfest/Märzen',\n",
       "       'Munich Helles', 'Classic American Pilsner', 'Gueuze',\n",
       "       'Brown Porter', 'American Light Lager', 'English Cider',\n",
       "       'Fruit Cider', 'Altbier', 'Spice  Herb  or Vegetable Beer',\n",
       "       'Southern English Brown', 'Other Smoked Beer', 'Belgian Dubbel',\n",
       "       'Cyser (Apple Melomel)', 'Metheglin', 'Specialty IPA: Red IPA',\n",
       "       'Belgian Specialty Ale', 'Foreign Extra Stout', 'Braggot',\n",
       "       'Weizenbock', 'International Pale Lager', 'Common Cider',\n",
       "       'Imperial Stout', 'Strong Bitter', 'Dusseldorf Altbier',\n",
       "       'Bière de Garde', 'Dunkelweizen', 'Schwarzbier', 'Baltic Porter',\n",
       "       'Doppelbock', 'American Barleywine',\n",
       "       'Other Specialty Cider or Perry', 'Specialty IPA: White IPA',\n",
       "       'Mild', 'California Common Beer', 'American Wheat Beer',\n",
       "       'British Strong Ale', 'Other Fruit Melomel', 'Classic Rauchbier',\n",
       "       'Märzen', 'American Lager', 'Wee Heavy', 'Dry Mead',\n",
       "       'British Brown Ale', 'Weissbier', 'Clone Beer', 'Best Bitter',\n",
       "       'Standard/Ordinary Bitter', 'Czech Premium Pale Lager',\n",
       "       'Mixed-Fermentation Sour Beer', 'Scottish Heavy 70/-',\n",
       "       'English Porter', 'Czech Dark Lager',\n",
       "       'Roggenbier (German Rye Beer)', 'Gose', 'Fruit Lambic',\n",
       "       'Sweet Mead', 'Australian Sparkling Ale', 'Maibock/Helles Bock',\n",
       "       'American Strong Ale', 'Specialty IPA: Belgian IPA',\n",
       "       'Mixed-Style Beer', 'North German Altbier', 'American Porter',\n",
       "       'Dortmunder Export', 'German Pils', 'Irish Stout',\n",
       "       'English Barleywine', 'Specialty IPA: Rye IPA', 'Scottish Export',\n",
       "       'Scottish Export 80/-', 'Tropical Stout', 'Eisbock',\n",
       "       'Semi-Sweet Mead', 'French Cider', 'Munich Dunkel',\n",
       "       'Specialty Smoked Beer', 'Open Category Mead',\n",
       "       'Wild Specialty Beer', 'Apple Wine', 'Czech Pale Lager',\n",
       "       'California Common', 'Flanders Brown Ale/Oud Bruin',\n",
       "       'International Amber Lager', 'Alternative Grain Beer',\n",
       "       'Scottish Light 60/-', 'Helles Bock', 'Lambic',\n",
       "       'Pre-Prohibition Lager', 'Ordinary Bitter', 'Wheatwine',\n",
       "       'Dunkles Weissbier', 'Straight (Unblended) Lambic',\n",
       "       'Kentucky Common', 'New England Cider', 'Pyment (Grape Melomel)',\n",
       "       'Lichtenhainer', 'Irish Extra Stout', 'Rauchbier',\n",
       "       'Specialty IPA: Brown IPA', 'Kellerbier: Amber Kellerbier',\n",
       "       'Sahti', 'Oud Bruin', 'Piwo Grodziskie', 'Specialty Fruit Beer',\n",
       "       'Alternative Sugar Beer', 'Kellerbier: Pale Kellerbier',\n",
       "       'Classic Style Smoked Beer', 'Czech Amber Lager', 'Scottish Heavy',\n",
       "       'Traditional Perry', 'Festbier', 'Brett Beer', 'Dark Mild',\n",
       "       'London Brown Ale', 'Fruit and Spice Beer',\n",
       "       'German Helles Exportbier', 'Autumn Seasonal Beer',\n",
       "       'International Dark Lager', 'Roggenbier', 'Dunkles Bock',\n",
       "       'German Leichtbier', 'Scottish Light', 'Pre-Prohibition Porter',\n",
       "       'Specialty Wood-Aged Beer'], dtype=object)"
      ]
     },
     "execution_count": 99,
     "metadata": {},
     "output_type": "execute_result"
    }
   ],
   "source": []
  },
  {
   "cell_type": "code",
   "execution_count": 58,
   "metadata": {},
   "outputs": [],
   "source": [
    "model = keras.Sequential([\n",
    "    keras.layers.InputLayer((num_features,)),\n",
    "    keras.layers.Dense(1024, activation=tf.nn.relu),\n",
    "    keras.layers.Dropout(0.5),\n",
    "    keras.layers.Dense(512, activation=tf.nn.relu),\n",
    "    keras.layers.Dropout(0.5),\n",
    "    keras.layers.Dense(num_classes, activation=tf.nn.softmax)\n",
    "])\n"
   ]
  },
  {
   "cell_type": "code",
   "execution_count": 59,
   "metadata": {},
   "outputs": [],
   "source": [
    "model.compile(optimizer=tf.train.GradientDescentOptimizer(learning_rate=0.01), \n",
    "              loss='sparse_categorical_crossentropy',\n",
    "              metrics=['accuracy'])"
   ]
  },
  {
   "cell_type": "code",
   "execution_count": 60,
   "metadata": {},
   "outputs": [
    {
     "name": "stdout",
     "output_type": "stream",
     "text": [
      "Epoch 1/10\n",
      "51702/51702 [==============================] - 95s 2ms/step - loss: 4.0231 - acc: 0.1653\n",
      "Epoch 2/10\n",
      "51702/51702 [==============================] - 95s 2ms/step - loss: 3.6797 - acc: 0.1898\n",
      "Epoch 3/10\n",
      "51702/51702 [==============================] - 95s 2ms/step - loss: 3.5446 - acc: 0.2066\n",
      "Epoch 4/10\n",
      "51702/51702 [==============================] - 95s 2ms/step - loss: 3.4599 - acc: 0.2148\n",
      "Epoch 5/10\n",
      "51702/51702 [==============================] - 99s 2ms/step - loss: 3.4060 - acc: 0.2218\n",
      "Epoch 6/10\n",
      "51702/51702 [==============================] - 99s 2ms/step - loss: 3.3633 - acc: 0.2237\n",
      "Epoch 7/10\n",
      "51702/51702 [==============================] - 99s 2ms/step - loss: 3.3312 - acc: 0.2304\n",
      "Epoch 8/10\n",
      "51702/51702 [==============================] - 98s 2ms/step - loss: 3.3057 - acc: 0.2318\n",
      "Epoch 9/10\n",
      "51702/51702 [==============================] - 96s 2ms/step - loss: 3.2877 - acc: 0.2322\n",
      "Epoch 10/10\n",
      "51702/51702 [==============================] - 96s 2ms/step - loss: 3.2624 - acc: 0.2368\n"
     ]
    }
   ],
   "source": [
    "history = model.fit(X_train, y_train, epochs=10)"
   ]
  },
  {
   "cell_type": "code",
   "execution_count": 61,
   "metadata": {},
   "outputs": [
    {
     "data": {
      "text/plain": [
       "Text(0.5,0,'epoch')"
      ]
     },
     "execution_count": 61,
     "metadata": {},
     "output_type": "execute_result"
    },
    {
     "data": {
      "image/png": "[encoded data removed]",
      "text/plain": [
       "<Figure size 432x288 with 1 Axes>"
      ]
     },
     "metadata": {
      "needs_background": "light"
     },
     "output_type": "display_data"
    }
   ],
   "source": [
    "# summarize history for accuracy\n",
    "pyplot.plot(history.history['acc'])\n",
    "pyplot.title('model accuracy')\n",
    "pyplot.ylabel('accuracy')\n",
    "pyplot.xlabel('epoch')"
   ]
  },
  {
   "cell_type": "code",
   "execution_count": 100,
   "metadata": {},
   "outputs": [],
   "source": [
    "model2 = keras.Sequential([\n",
    "    keras.layers.InputLayer((num_features,)),\n",
    "    keras.layers.Dense(1024, activation=tf.nn.relu),\n",
    "    keras.layers.Dropout(0.1),\n",
    "    keras.layers.Dense(512, activation=tf.nn.relu),\n",
    "    keras.layers.Dropout(0.1),\n",
    "    keras.layers.Dense(num_classes, activation=tf.nn.softmax)\n",
    "])\n",
    "model2.compile(optimizer=tf.train.GradientDescentOptimizer(learning_rate=0.01), \n",
    "              loss='sparse_categorical_crossentropy',\n",
    "              metrics=['accuracy'])\n",
    "epochs=250\n",
    "val_auc_double_train, val_auc_double_test = np.zeros(epochs), np.zeros(epochs)\n",
    "for i in range(epochs):\n",
    "    model2.fit(X_train, y_train)\n",
    "    pred = model2.predict_classes(X_test)\n",
    "    val_auc_double_test[i] = accuracy_score(y_test,pred)\n",
    "    pred = model2.predict_classes(X_train)\n",
    "    val_auc_double_train[i] = accuracy_score(y_train,pred)"
   ]
  },
  {
   "cell_type": "code",
   "execution_count": 101,
   "metadata": {},
   "outputs": [
    {
     "data": {
      "image/png": "[encoded data removed]",
      "text/plain": [
       "<Figure size 432x288 with 1 Axes>"
      ]
     },
     "metadata": {
      "needs_background": "light"
     },
     "output_type": "display_data"
    }
   ],
   "source": [
    "pyplot.plot(val_auc_double_train, label=\"Train Set : Four layer\")\n",
    "pyplot.plot(val_auc_double_test, label=\"Test Set : Four layer\")\n",
    "plt.legend(loc='lower right')\n",
    "pyplot.xlabel(\"Epochs (Back Propagation Loop)\")\n",
    "pyplot.ylabel(\"Percent Correct\")\n",
    "pyplot.show()"
   ]
  },
  {
   "cell_type": "code",
   "execution_count": 116,
   "metadata": {},
   "outputs": [
    {
     "name": "stdout",
     "output_type": "stream",
     "text": [
      "Saved model to disk\n"
     ]
    }
   ],
   "source": [
    "# serialize model to JSON\n",
    "model_json = model2.to_json()\n",
    "with open(\"model.json\", \"w\") as json_file:\n",
    "    json_file.write(model_json)\n",
    "# serialize weights to HDF5\n",
    "model2.save_weights(\"model.h5\")\n",
    "print(\"Saved model to disk\")"
   ]
  },
  {
   "cell_type": "code",
   "execution_count": 122,
   "metadata": {},
   "outputs": [],
   "source": [
    "# load json and create model\n",
    "json_file = open('model.json', 'r')\n",
    "loaded_model_json = json_file.read()\n",
    "json_file.close()\n",
    "loadedModel = keras.Sequential([\n",
    "    keras.layers.InputLayer((num_features,)),\n",
    "    keras.layers.Dense(1024, activation=tf.nn.relu),\n",
    "    keras.layers.Dropout(0.1),\n",
    "    keras.layers.Dense(512, activation=tf.nn.relu),\n",
    "    keras.layers.Dropout(0.1),\n",
    "    keras.layers.Dense(num_classes, activation=tf.nn.softmax)\n",
    "])"
   ]
  },
  {
   "cell_type": "code",
   "execution_count": 123,
   "metadata": {},
   "outputs": [
    {
     "name": "stdout",
     "output_type": "stream",
     "text": [
      "Loaded model from disk\n"
     ]
    }
   ],
   "source": [
    "# load weights into new model\n",
    "loadedModel.load_weights(\"model.h5\")\n",
    "print(\"Loaded model from disk\")"
   ]
  },
  {
   "cell_type": "code",
   "execution_count": null,
   "metadata": {},
   "outputs": [],
   "source": []
  }
 ],
 "metadata": {
  "kernelspec": {
   "display_name": "Python 3",
   "language": "python",
   "name": "python3"
  },
  "language_info": {
   "codemirror_mode": {
    "name": "ipython",
    "version": 3
   },
   "file_extension": ".py",
   "mimetype": "text/x-python",
   "name": "python",
   "nbconvert_exporter": "python",
   "pygments_lexer": "ipython3",
   "version": "3.5.5"
  }
 },
 "nbformat": 4,
 "nbformat_minor": 2
}
